{
 "cells": [
  {
   "cell_type": "code",
   "execution_count": 44,
   "metadata": {},
   "outputs": [
    {
     "name": "stdout",
     "output_type": "stream",
     "text": [
      "Import Complete\n"
     ]
    }
   ],
   "source": [
    "import pandas as pd\n",
    "import numpy as np\n",
    "\n",
    "from sklearn import preprocessing\n",
    "from sklearn.model_selection import train_test_split\n",
    "from sklearn.neural_network import MLPClassifier\n",
    "from sklearn.gaussian_process import GaussianProcessClassifier\n",
    "from sklearn.gaussian_process.kernels import RBF\n",
    "from sklearn.tree import DecisionTreeClassifier\n",
    "from sklearn.ensemble import  AdaBoostClassifier\n",
    "from sklearn.multiclass import OneVsRestClassifier\n",
    "from sklearn.multiclass import OneVsOneClassifier\n",
    "from sklearn.multiclass import OutputCodeClassifier\n",
    "from sklearn.neighbors import KNeighborsClassifier\n",
    "from sklearn.neighbors import RadiusNeighborsClassifier\n",
    "from sklearn.metrics import accuracy_score\n",
    "\n",
    "from sklearn.decomposition import TruncatedSVD\n",
    "\n",
    "from sklearn.feature_extraction.text import TfidfVectorizer\n",
    "from sklearn.pipeline import make_pipeline\n",
    "from sklearn.preprocessing import Normalizer\n",
    "from sklearn import metrics\n",
    "import os\n",
    "\n",
    "import pymysql\n",
    "import json\n",
    "\n",
    "config_fn = './config.json'\n",
    "\n",
    "print(\"Import Complete\")"
   ]
  },
  {
   "cell_type": "code",
   "execution_count": 45,
   "metadata": {},
   "outputs": [],
   "source": [
    "def connect(config):\n",
    "    return pymysql.connect(\n",
    "        host=config['ai_db_host'],  # Database host\n",
    "        port=config['ai_db_port'],  # Database port\n",
    "        user=config['ai_db_username'],  # Database user\n",
    "        passwd=config['ai_db_password'],  # Database password\n",
    "        db=config['ai_db_name'],  # Database name\n",
    "        connect_timeout=5,\n",
    "        cursorclass=pymysql.cursors.DictCursor\n",
    "    )\n",
    "\n",
    "def pull_data():\n",
    "    with open(config_fn, \"r\") as f:\n",
    "        config = json.loads(f.read())\n",
    "    conn = connect(config)\n",
    "    sql_1 = \"SELECT rowId, question, category FROM cleanHotlineQuestionAnswer;\"\n",
    "    with conn.cursor() as cursor:\n",
    "        cursor.execute(sql_1)\n",
    "    result = cursor.fetchall()\n",
    "    cursor.close()\n",
    "    return result"
   ]
  },
  {
   "cell_type": "code",
   "execution_count": 46,
   "metadata": {},
   "outputs": [],
   "source": [
    "def split_set(x, y, test_size):\n",
    "    X_train, X_test, y_train, y_test = train_test_split(list(x),\n",
    "                                                        list(y),\n",
    "                                                        test_size=test_size)\n",
    "    return X_train, X_test, y_train, y_test\n",
    "\n",
    "def train_models(df, v=False):\n",
    "    \n",
    "    X_train, X_test, y_train, y_test = split_set(df.features, df.category, 0.2)\n",
    "\n",
    "    names = [\"NerualNet\",  \n",
    "             \"DecisionTree\", \"OneVsRestClassifier\", \n",
    "             \"OneVsOneClassifier\", \"OutputCodeClassifier\",  \n",
    "             ]\n",
    "    clfs = [MLPClassifier( max_iter=500),\n",
    "            \n",
    "                DecisionTreeClassifier(),\n",
    "            OneVsRestClassifier( MLPClassifier( max_iter=500)),\n",
    "                \n",
    "           OneVsOneClassifier(DecisionTreeClassifier()),\n",
    "           OutputCodeClassifier(MLPClassifier( max_iter=500)),\n",
    "            ]\n",
    "    accuracies = []\n",
    "    for clf, name in zip(clfs, names):\n",
    "        clf.fit(X_train, y_train)\n",
    "        y_predict = clf.predict(X_test)\n",
    "        '''\n",
    "        print(y_test)\n",
    "        print(\"y_predict\")\n",
    "        print(y_predict)\n",
    "        \n",
    "        y_test2 = np.asarray(y_test)\n",
    "        y_test2 = y_test2.dot(ohe.active_features_).astype(int)\n",
    "        y_predict = np.asarray(y_predict.dot(ohe.active_features_).astype(int))\n",
    "        #print(y_test2, y_predict)\n",
    "        '''\n",
    "        score = accuracy_score(y_test, y_predict)\n",
    "        if v == True:\n",
    "            print(\"The accuracy for {} is {}\".format(name, score))\n",
    "        accuracies.append(score)\n",
    "    return np.mean(accuracies)"
   ]
  },
  {
   "cell_type": "code",
   "execution_count": 47,
   "metadata": {},
   "outputs": [],
   "source": [
    "def build_features(df):\n",
    "    vectorizer = TfidfVectorizer(min_df=0.01, max_df=0.7 )\n",
    "    X_vectoizer = vectorizer.fit_transform(list(df.question))\n",
    "    print(\"Vectorization Complete\")\n",
    "\n",
    "    n_components = 50\n",
    "    explained_variance = 0.0\n",
    "    while explained_variance < .5 and n_components < 175:\n",
    "        svd = TruncatedSVD(n_components=n_components)\n",
    "        normalizer = Normalizer(copy=False)\n",
    "        lsa = make_pipeline(svd, normalizer)\n",
    "        X = lsa.fit_transform(X_vectoizer)\n",
    "        #df[\"features\"] = list(X)\n",
    "        explained_variance = svd.explained_variance_ratio_.sum()\n",
    "        n_components += 5\n",
    "\n",
    "        print(\"Explained variance of the SVD step: {}%     n_componets: {}\".format(\n",
    "            int(explained_variance * 100), n_components))\n",
    "    return X\n"
   ]
  },
  {
   "cell_type": "code",
   "execution_count": 48,
   "metadata": {},
   "outputs": [
    {
     "name": "stdout",
     "output_type": "stream",
     "text": [
      "            category                                           question  rowId\n",
      "0         Compliance  I have both a men's and a women's restrooms bu...      1\n",
      "1  Employee Benefits  I have had an employee ask if their dependent ...      2\n",
      "2  Employee Benefits  As a broker do we need a business associate ag...      3\n",
      "3  Employee Benefits  The company I work for currently offers a simp...      4\n",
      "4         Compliance  Hello, I have been asked to create a project f...      5\n",
      "Loaded 50000 Data Points\n",
      "Vectorization Complete\n",
      "Explained variance of the SVD step: 29%     n_componets: 55\n",
      "Explained variance of the SVD step: 31%     n_componets: 60\n",
      "Explained variance of the SVD step: 33%     n_componets: 65\n",
      "Explained variance of the SVD step: 34%     n_componets: 70\n",
      "Explained variance of the SVD step: 36%     n_componets: 75\n",
      "Explained variance of the SVD step: 38%     n_componets: 80\n",
      "Explained variance of the SVD step: 39%     n_componets: 85\n",
      "Explained variance of the SVD step: 40%     n_componets: 90\n",
      "Explained variance of the SVD step: 42%     n_componets: 95\n",
      "Explained variance of the SVD step: 43%     n_componets: 100\n",
      "Explained variance of the SVD step: 44%     n_componets: 105\n",
      "Explained variance of the SVD step: 45%     n_componets: 110\n",
      "Explained variance of the SVD step: 47%     n_componets: 115\n",
      "Explained variance of the SVD step: 48%     n_componets: 120\n",
      "Explained variance of the SVD step: 49%     n_componets: 125\n",
      "Explained variance of the SVD step: 50%     n_componets: 130\n",
      "The accuracy for NerualNet is 0.7746\n",
      "The accuracy for DecisionTree is 0.7128\n",
      "The accuracy for OneVsRestClassifier is 0.8111\n",
      "The accuracy for OneVsOneClassifier is 0.7466\n",
      "The accuracy for OutputCodeClassifier is 0.806\n"
     ]
    }
   ],
   "source": [
    "df = pd.DataFrame(pull_data())\n",
    "df = df[:50000]\n",
    "print(df.head())\n",
    "print(\"Loaded {} Data Points\".format(len(df)))\n",
    "\n",
    "df[\"features\"] = list(build_features(df))\n",
    "\n",
    "acc = train_models(df, v=True)\n"
   ]
  },
  {
   "cell_type": "code",
   "execution_count": null,
   "metadata": {},
   "outputs": [],
   "source": []
  }
 ],
 "metadata": {
  "kernelspec": {
   "display_name": "Python 2",
   "language": "python",
   "name": "python2"
  },
  "language_info": {
   "codemirror_mode": {
    "name": "ipython",
    "version": 2
   },
   "file_extension": ".py",
   "mimetype": "text/x-python",
   "name": "python",
   "nbconvert_exporter": "python",
   "pygments_lexer": "ipython2",
   "version": "2.7.14"
  }
 },
 "nbformat": 4,
 "nbformat_minor": 2
}
