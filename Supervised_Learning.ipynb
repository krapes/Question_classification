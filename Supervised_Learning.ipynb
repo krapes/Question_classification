{
 "cells": [
  {
   "cell_type": "code",
   "execution_count": 99,
   "metadata": {},
   "outputs": [],
   "source": [
    "import pandas as pd\n",
    "import numpy as np\n",
    "from collections import Counter\n",
    "from sklearn import preprocessing\n",
    "from sklearn.model_selection import train_test_split\n",
    "from sklearn.neural_network import MLPClassifier\n",
    "from sklearn.gaussian_process import GaussianProcessClassifier\n",
    "from sklearn.gaussian_process.kernels import RBF\n",
    "from sklearn.tree import DecisionTreeClassifier\n",
    "from sklearn.ensemble import  AdaBoostClassifier\n",
    "from sklearn.metrics import accuracy_score"
   ]
  },
  {
   "cell_type": "code",
   "execution_count": null,
   "metadata": {},
   "outputs": [],
   "source": [
    "def feature_list(file):\n",
    "    vocab = []\n",
    "    with open(file, 'rb') as f:\n",
    "        reader = csv.reader(f)\n",
    "        for row in reader:\n",
    "            word = row[0]\n",
    "            if word not in vocab:\n",
    "                vocab.append(word)\n",
    "            else:\n",
    "                print(\"Repeat: {}\".format(word))\n",
    "    return vocab\n",
    "\n",
    "def label_features(df, features_master):\n",
    "        for i,row in df.iterrows():\n",
    "            #message = pruning_dict.remove_nonalphanumeric(row.text)\n",
    "            message = str(row.question_class)\n",
    "            features = Counter(message.split()) & features_master\n",
    "            features = features + features_master\n",
    "            features = list(np.array(list(features.values())) - 1)\n",
    "            df.set_value(i,'features',features)\n",
    "        return df\n",
    "\n",
    "def create_feature_dataframe(df, features_master):\n",
    "    return pd.DataFrame(list(df.features), columns=range(len(features_master)))\n",
    "\n",
    "def split_set(x, y, test_size):\n",
    "    X_train, X_test, y_train, y_test = train_test_split(list(x),\n",
    "                                                        list(y),\n",
    "                                                        test_size=test_size)\n",
    "    return X_train, X_test, y_train, y_test"
   ]
  },
  {
   "cell_type": "code",
   "execution_count": null,
   "metadata": {},
   "outputs": [
    {
     "name": "stderr",
     "output_type": "stream",
     "text": [
      "C:\\Users\\kerri\\Anaconda2\\envs\\thinkhr\\lib\\site-packages\\ipykernel_launcher.py:20: FutureWarning: set_value is deprecated and will be removed in a future release. Please use .at[] or .iat[] accessors instead\n"
     ]
    },
    {
     "name": "stdout",
     "output_type": "stream",
     "text": [
      "0.6385205861828332\n",
      "0.6273551988834613\n",
      "0.6329378925331473\n"
     ]
    }
   ],
   "source": [
    "csvdata = \"./data/subcategory_2_think_hr_v2.csv\"\n",
    "df = pd.read_csv(csvdata)\n",
    "df = df\n",
    "catoregories = [\"Compensation\", \"Compliance\", \"Employee Benefits\"]\n",
    "\n",
    "le = preprocessing.LabelEncoder()\n",
    "le.fit(catoregories)\n",
    "ohe = preprocessing.OneHotEncoder()\n",
    "ohe.fit([[0],[1],[2]])\n",
    "\n",
    "ohe_array = ohe.transform(le.transform(df.category).reshape(-1,1)).toarray()\n",
    "df['category_ohe'] = list(ohe_array)\n",
    "\n",
    "\n",
    "vocab = feature_list('./HotWords.csv')\n",
    "features_master = Counter(vocab)\n",
    "df[\"features\"] = [[0] * len(vocab)] * len(df)\n",
    "df = label_features(df, features_master)\n",
    "df2 = create_feature_dataframe(df, features_master)\n",
    "X_train, X_test, y_train, y_test = split_set(df.features, df.category, 0.1)\n",
    "\n",
    "names = [\"NerualNet\", \"DecisionTree\", \"AdaBoost\", \"GaussianProcess\"]\n",
    "clfs = [MLPClassifier( max_iter=500),\n",
    "            DecisionTreeClassifier(),\n",
    "            AdaBoostClassifier(),\n",
    "            GaussianProcessClassifier(1.0 * RBF(1.0))]\n",
    "for clf, name in enumerate(clfs, names):\n",
    "    clf.fit(X_train, y_train)\n",
    "    y_predict = clf.predict(X_test)\n",
    "    #print(y_predict)\n",
    "    score = accuracy_score(y_test, y_predict)\n",
    "    print(\"The accuracy for {} is {}\".format(name, score))\n"
   ]
  },
  {
   "cell_type": "code",
   "execution_count": null,
   "metadata": {},
   "outputs": [],
   "source": []
  },
  {
   "cell_type": "code",
   "execution_count": null,
   "metadata": {},
   "outputs": [],
   "source": []
  }
 ],
 "metadata": {
  "kernelspec": {
   "display_name": "Python 2",
   "language": "python",
   "name": "python2"
  },
  "language_info": {
   "codemirror_mode": {
    "name": "ipython",
    "version": 2
   },
   "file_extension": ".py",
   "mimetype": "text/x-python",
   "name": "python",
   "nbconvert_exporter": "python",
   "pygments_lexer": "ipython2",
   "version": "2.7.14"
  }
 },
 "nbformat": 4,
 "nbformat_minor": 2
}
